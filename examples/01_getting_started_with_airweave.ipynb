{
    "cells": [
        {
            "cell_type": "markdown",
            "metadata": {},
            "source": [
                "# 🚀 Getting Started with Airweave\n",
                "\n",
                "Welcome to Airweave! This notebook will show you how to:\n",
                "- 📦 Create a **collection** (a searchable group of data sources)\n",
                "- 🔗 Connect **GitHub** and **Stripe** to sync your data\n",
                "- ⏳ Monitor sync progress in real-time\n",
                "- 🔍 Search across all your connected data with one query\n",
                "\n",
                "By the end of this tutorial, you'll understand how Airweave makes any app searchable for your AI agents!"
            ]
        },
        {
            "cell_type": "markdown",
            "metadata": {},
            "source": [
                "## 📋 Prerequisites\n",
                "\n",
                "Before we begin, make sure you have:\n",
                "1. **Airweave API Key** - Get one at [app.airweave.ai](https://app.airweave.ai)\n",
                "2. **GitHub Personal Access Token** - Create one at [github.com/settings/tokens](https://github.com/settings/tokens) with `repo` scope\n",
                "3. **Stripe API Key** - Get your test key from [dashboard.stripe.com/apikeys](https://dashboard.stripe.com/apikeys)"
            ]
        },
        {
            "cell_type": "code",
            "execution_count": null,
            "metadata": {},
            "outputs": [],
            "source": [
                "# Install required packages\n",
                "!pip install airweave-sdk"
            ]
        },
        {
            "cell_type": "code",
            "execution_count": null,
            "metadata": {},
            "outputs": [],
            "source": [
                "# Import required libraries\n",
                "import os\n",
                "import time\n",
                "from datetime import datetime\n",
                "from typing import Optional\n",
                "\n",
                "from airweave import AirweaveSDK\n",
                "from airweave.schemas import ResponseType\n",
                "\n",
                "# For pretty printing\n",
                "from IPython.display import display, Markdown, clear_output"
            ]
        },
        {
            "cell_type": "markdown",
            "metadata": {},
            "source": [
                "## 🔐 Step 1: Configure Your Credentials\n",
                "\n",
                "Let's set up your API keys. Replace the placeholder values with your actual keys."
            ]
        },
        {
            "cell_type": "code",
            "execution_count": null,
            "metadata": {},
            "outputs": [],
            "source": [
                "# Configuration - Replace with your actual values\n",
                "AIRWEAVE_API_KEY = \"your_airweave_api_key_here\"\n",
                "GITHUB_TOKEN = \"your_github_pat_here\"\n",
                "GITHUB_REPO = \"owner/repo\"  # e.g., \"airweave-ai/airweave\"\n",
                "STRIPE_API_KEY = \"sk_test_your_stripe_key_here\"\n",
                "\n",
                "# Initialize the Airweave client\n",
                "client = AirweaveSDK(api_key=AIRWEAVE_API_KEY)\n",
                "\n",
                "print(\"✅ Airweave client initialized!\")"
            ]
        },
        {
            "cell_type": "markdown",
            "metadata": {},
            "source": [
                "## 📦 Step 2: Create a Collection\n",
                "\n",
                "**What is a Collection?**\n",
                "\n",
                "A collection is a logical group of data sources that:\n",
                "- 🗂️ Organizes related data together (e.g., \"Engineering Data\", \"Customer Support\")\n",
                "- 🔍 Provides a single search endpoint for all its sources\n",
                "- 🤖 Makes it easy for agents to query specific domains of knowledge\n",
                "\n",
                "Think of it like a folder that contains data from multiple apps, all searchable together!"
            ]
        },
        {
            "cell_type": "code",
            "execution_count": null,
            "metadata": {},
            "outputs": [],
            "source": [
                "# Create a new collection\n",
                "collection_name = f\"My Project Data {datetime.now().strftime('%Y-%m-%d %H:%M')}\"\n",
                "\n",
                "print(f\"🔄 Creating collection: {collection_name}...\")\n",
                "collection = client.collections.create_collection(\n",
                "    name=collection_name\n",
                ")\n",
                "\n",
                "print(f\"\\n✅ Collection created successfully!\")\n",
                "print(f\"📌 Collection ID: {collection.readable_id}\")\n",
                "print(f\"📊 Status: {collection.status}\")\n",
                "print(f\"🕐 Created at: {collection.created_at}\")\n",
                "\n",
                "# Store the collection ID for later use\n",
                "COLLECTION_ID = collection.readable_id\n",
                "\n",
                "print(f\"\\n💡 Note: Status is '{collection.status}' because we haven't added any data sources yet!\")"
            ]
        },
        {
            "cell_type": "markdown",
            "metadata": {},
            "source": [
                "## 🐙 Step 3: Connect GitHub Repository\n",
                "\n",
                "Now let's add our first **source connection** to the collection. Source connections:\n",
                "- 🔗 Link external data sources to your collection\n",
                "- 🔄 Sync data automatically on a schedule or manually\n",
                "- 🔐 Store credentials securely\n",
                "\n",
                "We'll start with GitHub to sync code, issues, and documentation."
            ]
        },
        {
            "cell_type": "code",
            "execution_count": null,
            "metadata": {},
            "outputs": [],
            "source": [
                "# Create GitHub source connection\n",
                "print(f\"🔄 Connecting GitHub repository: {GITHUB_REPO}...\")\n",
                "\n",
                "github_connection = client.source_connections.create_source_connection(\n",
                "    name=f\"GitHub - {GITHUB_REPO}\",\n",
                "    short_name=\"github\",\n",
                "    collection=COLLECTION_ID,\n",
                "    auth_fields={\n",
                "        \"personal_access_token\": GITHUB_TOKEN,\n",
                "        \"repo_name\": GITHUB_REPO\n",
                "    },\n",
                "    config_fields={\n",
                "        \"branch\": \"feature\" # Optional\n",
                "    },\n",
                "    sync_immediately=True  # Start syncing data right away\n",
                ")\n",
                "\n",
                "print(f\"\\n✅ GitHub connected successfully!\")\n",
                "print(f\"📌 Connection ID: {github_connection.id}\")\n",
                "print(f\"📊 Status: {github_connection.status}\")\n",
                "print(f\"🔄 Sync Job ID: {github_connection.latest_sync_job_id}\")"
            ]
        },
        {
            "cell_type": "markdown",
            "metadata": {},
            "source": [
                "## ⏳ Step 4: Monitor GitHub Sync Progress\n",
                "\n",
                "Let's watch the sync progress in real-time! Airweave is now:\n",
                "- 📥 Fetching data from your GitHub repository\n",
                "- 🔄 Processing and extracting entities (files, issues, PRs, etc.)\n",
                "- 💾 Storing them in the vector database for semantic search"
            ]
        },
        {
            "cell_type": "code",
            "execution_count": null,
            "metadata": {},
            "outputs": [],
            "source": [
                "def monitor_sync_progress(connection_id: str, connection_name: str, max_wait_seconds: int = 300):\n",
                "    \"\"\"Monitor sync progress using the source connection's built-in sync job fields.\"\"\"\n",
                "    print(f\"⏳ Monitoring sync for {connection_name}...\\n\")\n",
                "    \n",
                "    start_time = time.time()\n",
                "    \n",
                "    while True:\n",
                "        # Get current connection with latest sync job info\n",
                "        connection = client.source_connections.get_source_connection(\n",
                "            source_connection_id=connection_id\n",
                "        )\n",
                "        \n",
                "        # Use the built-in sync job fields from the source connection\n",
                "        if connection.latest_sync_job_status:\n",
                "            status = connection.latest_sync_job_status.upper()\n",
                "            \n",
                "            # Clear output for clean display\n",
                "            clear_output(wait=True)\n",
                "            \n",
                "            # Display current status\n",
                "            elapsed = int(time.time() - start_time)\n",
                "            print(f\"🔄 Sync Progress for {connection_name}\")\n",
                "            print(f\"━━━━━━━━━━━━━━━━━━━━━━━━━━━━━━━━━━━\")\n",
                "            print(f\"📊 Status: {status}\")\n",
                "            print(f\"⏱️  Elapsed: {elapsed}s\")\n",
                "            \n",
                "            if connection.latest_sync_job_started_at:\n",
                "                print(f\"🕐 Started: {connection.latest_sync_job_started_at}\")\n",
                "            \n",
                "            if status == \"COMPLETED\":\n",
                "                print(f\"\\n✅ Sync completed successfully!\")\n",
                "                if connection.latest_sync_job_completed_at and connection.latest_sync_job_started_at:\n",
                "                    duration = (connection.latest_sync_job_completed_at - connection.latest_sync_job_started_at).total_seconds()\n",
                "                    print(f\"⏱️  Total duration: {int(duration)}s\")\n",
                "                print(f\"\\n💡 Your {connection_name} data is now searchable!\")\n",
                "                break\n",
                "            elif status == \"FAILED\":\n",
                "                print(f\"\\n❌ Sync failed!\")\n",
                "                if connection.latest_sync_job_error:\n",
                "                    print(f\"Error: {connection.latest_sync_job_error}\")\n",
                "                break\n",
                "            else:\n",
                "                print(f\"\\n⏳ Sync in progress...\")\n",
                "                print(f\"   Processing your {connection_name} data...\")\n",
                "        \n",
                "        time.sleep(2)  # Poll every 2 seconds\n",
                "        \n",
                "        # Timeout check\n",
                "        if time.time() - start_time > max_wait_seconds:\n",
                "            print(f\"\\n⚠️  Sync taking longer than {max_wait_seconds}s - it may still complete in the background\")\n",
                "            break\n",
                "\n",
                "# Monitor GitHub sync\n",
                "monitor_sync_progress(github_connection.id, \"GitHub\")"
            ]
        },
        {
            "cell_type": "markdown",
            "metadata": {},
            "source": [
                "## 💳 Step 5: Add Stripe Data Source\n",
                "\n",
                "Let's add another data source - **Stripe** - to demonstrate the power of multi-source search.\n",
                "\n",
                "With Stripe connected, you'll be able to search across:\n",
                "- 💰 Customer payment data\n",
                "- 🧾 Invoices and transactions\n",
                "- 📊 Product and pricing information\n",
                "\n",
                "Combined with GitHub, this creates a powerful knowledge base spanning code AND business data!"
            ]
        },
        {
            "cell_type": "code",
            "execution_count": null,
            "metadata": {},
            "outputs": [],
            "source": [
                "# Create Stripe source connection\n",
                "print(\"🔄 Connecting Stripe account...\")\n",
                "\n",
                "stripe_connection = client.source_connections.create_source_connection(\n",
                "    name=\"Stripe - Test Account\",\n",
                "    short_name=\"stripe\",\n",
                "    collection=COLLECTION_ID,  # Add to the same collection as GitHub\n",
                "    auth_fields={\n",
                "        \"api_key\": STRIPE_API_KEY\n",
                "    },\n",
                "    config_fields={},  # No additional config needed for Stripe\n",
                "    sync_immediately=True  # Start syncing immediately\n",
                ")\n",
                "\n",
                "print(f\"\\n✅ Stripe connected successfully!\")\n",
                "print(f\"📌 Connection ID: {stripe_connection.id}\")\n",
                "print(f\"📊 Status: {stripe_connection.status}\")\n",
                "print(f\"🔄 Sync Job ID: {stripe_connection.latest_sync_job_id}\")\n",
                "\n",
                "# Monitor Stripe sync\n",
                "monitor_sync_progress(stripe_connection.id, \"Stripe\")"
            ]
        },
        {
            "cell_type": "markdown",
            "metadata": {},
            "source": [
                "## 🔍 Step 6: Search Your Data\n",
                "\n",
                "Now comes the magic! With both sources synced, you can:\n",
                "- 🔍 Search across GitHub AND Stripe with one query\n",
                "- 🤖 Get AI-powered summaries of your data\n",
                "- 🎯 Find connections between code and business data\n",
                "\n",
                "Let's try some searches!"
            ]
        },
        {
            "cell_type": "code",
            "execution_count": null,
            "metadata": {},
            "outputs": [],
            "source": [
                "# Search for code-related information\n",
                "code_query = \"What are the main features and architecture of this project?\"\n",
                "\n",
                "# Perform search with raw results\n",
                "code_results = client.collections.search_collection(\n",
                "    readable_id=COLLECTION_ID,\n",
                "    query=code_query,\n",
                "    response_type=ResponseType.RAW\n",
                ")\n",
                "\n",
                "# Display top results\n",
                "for i, result in enumerate(code_results.results[:3], 1):  # Show top 3\n",
                "    print(f\"📄 Result {i}:\")\n",
                "    print(f\"   Source: {result.source}\")\n",
                "    print(f\"   Score: {result.score:.3f}\")\n",
                "    if hasattr(result, 'metadata') and result.metadata:\n",
                "        if hasattr(result.metadata, 'title'):\n",
                "            print(f\"   Title: {result.metadata.title}\")\n",
                "        if hasattr(result.metadata, 'url'):\n",
                "            print(f\"   URL: {result.metadata.url}\")\n",
                "    print(f\"   Content: {result.content[:200]}...\\n\")"
            ]
        },
        {
            "cell_type": "code",
            "execution_count": null,
            "metadata": {},
            "outputs": [],
            "source": [
                "# Search for payment-related information\n",
                "payment_query = \"Show me recent customer transactions or payment activity\"\n",
                "\n",
                "# Get AI completion response for better summarization\n",
                "payment_results = client.collections.search_collection(\n",
                "    readable_id=COLLECTION_ID,\n",
                "    query=payment_query,\n",
                "    response_type=ResponseType.COMPLETION  # AI will analyze and summarize the results\n",
                ")\n",
                "\n",
                "print(\"🤖 AI Summary:\")\n",
                "print(\"━━━━━━━━━━━━━━━━━━━━━━━━━━━━━━━━━━━\")\n",
                "print(payment_results.completion)\n",
                "print(\"\\n📚 Based on sources:\")\n",
                "sources = set()\n",
                "for result in payment_results.results:\n",
                "    sources.add(result.source)\n",
                "for source in sources:\n",
                "    print(f\"   • {source}\")"
            ]
        },
        {
            "cell_type": "markdown",
            "metadata": {},
            "source": [
                "## 🎉 Congratulations!\n",
                "\n",
                "You've successfully:\n",
                "- ✅ Created an Airweave **collection** to organize your data\n",
                "- ✅ Connected **GitHub** and **Stripe** as data sources\n",
                "- ✅ Synced data from multiple sources into a unified knowledge base\n",
                "- ✅ Searched across all your data with semantic search\n",
                "\n",
                "### 🤔 What Just Happened?\n",
                "\n",
                "Airweave has:\n",
                "1. **Extracted** entities from your GitHub repo (files, issues, PRs) and Stripe account (customers, payments)\n",
                "2. **Processed** them into searchable chunks with metadata\n",
                "3. **Stored** them in a vector database for semantic search\n",
                "4. **Unified** them under one collection for cross-source queries\n",
                "\n",
                "Your AI agents can now search all this data through a single API!\n",
                "\n",
                "### 🚀 What's Next?\n",
                "\n",
                "Now that you have a searchable knowledge base, check out our other examples:\n",
                "\n",
                "1. **[Building AI Agents with Function Calling](./02_ai_agent_with_function_calling.ipynb)** - Use OpenAI function calling to build agents that can search your Airweave data\n",
                "2. **[Using Airweave MCP Server](./03_mcp_server_integration.ipynb)** - Integrate Airweave as an MCP tool for advanced AI workflows\n",
                "\n",
                "### 💾 Save Your Collection ID\n",
                "\n",
                "You'll need this collection ID for the next examples:"
            ]
        },
        {
            "cell_type": "code",
            "execution_count": null,
            "metadata": {},
            "outputs": [],
            "source": [
                "print(f\"📌 Your Collection ID: {COLLECTION_ID}\")\n",
                "print(f\"\\n💡 Save this ID to use in the next examples!\")"
            ]
        },
        {
            "cell_type": "markdown",
            "metadata": {},
            "source": [
                "## 🧹 Optional: Cleanup\n",
                "\n",
                "If you want to clean up the resources created in this tutorial:"
            ]
        },
        {
            "cell_type": "code",
            "execution_count": null,
            "metadata": {},
            "outputs": [],
            "source": [
                "# Uncomment to delete the collection and all its data\n",
                "\"\"\"\n",
                "print(\"🧹 Cleaning up...\")\n",
                "\n",
                "# Delete the collection (this will also delete all source connections)\n",
                "client.collections.delete_collection(\n",
                "    readable_id=COLLECTION_ID,\n",
                "    delete_data=True  # Also delete data in vector/graph stores\n",
                ")\n",
                "\n",
                "print(\"✅ Cleanup complete!\")\n",
                "\"\"\""
            ]
        }
    ],
    "metadata": {
        "kernelspec": {
            "display_name": "Python 3",
            "language": "python",
            "name": "python3"
        },
        "language_info": {
            "codemirror_mode": {
                "name": "ipython",
                "version": 3
            },
            "file_extension": ".py",
            "mimetype": "text/x-python",
            "name": "python",
            "nbconvert_exporter": "python",
            "pygments_lexer": "ipython3",
            "version": "3.8.0"
        }
    },
    "nbformat": 4,
    "nbformat_minor": 4
}
