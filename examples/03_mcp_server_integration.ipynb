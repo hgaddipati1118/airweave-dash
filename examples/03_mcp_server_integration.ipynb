{
  "cells": [
    {
      "cell_type": "markdown",
      "metadata": {},
      "source": [
        "# \ud83c\udf10 Using Airweave as an MCP Server with OpenAI\n",
        "\n",
        "This notebook demonstrates how to use Airweave's MCP (Model Context Protocol) server with OpenAI's new MCP tool support.\n",
        "\n",
        "You'll learn how to:\n",
        "- \ud83d\udd17 Connect to Airweave's MCP server\n",
        "- \ud83e\udd16 Use OpenAI's remote MCP tool feature\n",
        "- \ud83d\udcac Build agents that can search your data via MCP\n",
        "- \ud83c\udfaf Compare MCP vs function calling approaches\n",
        "\n",
        "**Prerequisites**: Complete the first notebook to create a collection with data sources."
      ]
    },
    {
      "cell_type": "markdown",
      "metadata": {},
      "source": [
        "## \ud83d\udccb Setup\n",
        "\n",
        "First, let's install and import the necessary libraries."
      ]
    },
    {
      "cell_type": "code",
      "execution_count": null,
      "metadata": {},
      "outputs": [],
      "source": [
        "# Install required packages\n",
        "!pip install openai requests python-dotenv"
      ]
    },
    {
      "cell_type": "code",
      "execution_count": null,
      "metadata": {},
      "outputs": [],
      "source": [
        "import os\n",
        "import json\n",
        "from typing import Dict, Any, List\n",
        "from openai import OpenAI\n",
        "import requests\n",
        "\n",
        "# For pretty printing\n",
        "from IPython.display import display, Markdown, HTML"
      ]
    },
    {
      "cell_type": "markdown",
      "metadata": {},
      "source": [
        "## \ud83d\udd10 Configure Credentials\n",
        "\n",
        "Set up your API keys. Note: We'll need to set up an MCP server endpoint for Airweave."
      ]
    },
    {
      "cell_type": "code",
      "execution_count": null,
      "metadata": {},
      "outputs": [],
      "source": [
        "# Replace with your actual credentials\n",
        "OPENAI_API_KEY = \"your_openai_api_key_here\"\n",
        "AIRWEAVE_API_KEY = \"your_airweave_api_key_here\"\n",
        "COLLECTION_ID = \"your-collection-id-from-notebook-1\"  # e.g., \"my-project-data-abc123\"\n",
        "\n",
        "# MCP Server URL - This would be your Airweave MCP endpoint\n",
        "# For this example, we'll simulate it, but in production you'd use:\n",
        "# MCP_SERVER_URL = \"https://mcp.airweave.ai\"\n",
        "MCP_SERVER_URL = \"https://api.airweave.ai/mcp\"  # Hypothetical MCP endpoint\n",
        "\n",
        "# Initialize OpenAI client\n",
        "openai_client = OpenAI(api_key=OPENAI_API_KEY)\n",
        "\n",
        "print(\"\u2705 Configuration complete!\")"
      ]
    },
    {
      "cell_type": "markdown",
      "metadata": {},
      "source": [
        "## \ud83d\udd27 Step 1: Understanding MCP Integration\n",
        "\n",
        "MCP (Model Context Protocol) allows AI models to interact with external tools via a standardized protocol. Airweave can act as an MCP server, exposing search capabilities."
      ]
    },
    {
      "cell_type": "code",
      "execution_count": null,
      "metadata": {},
      "outputs": [],
      "source": [
        "# Define the Airweave MCP configuration\n",
        "airweave_mcp_config = {\n",
        "    \"type\": \"mcp\",\n",
        "    \"server_label\": \"airweave\",\n",
        "    \"server_url\": MCP_SERVER_URL,\n",
        "    \"headers\": {\n",
        "        \"Authorization\": f\"Bearer {AIRWEAVE_API_KEY}\",\n",
        "        \"X-Collection-ID\": COLLECTION_ID\n",
        "    },\n",
        "    \"require_approval\": \"never\",  # For demo purposes\n",
        "    \"allowed_tools\": [\"search\", \"get-config\"]  # Airweave MCP tools\n",
        "}\n",
        "\n",
        "print(\"\u2705 MCP configuration created!\")\n",
        "print(json.dumps(airweave_mcp_config, indent=2))"
      ]
    },
    {
      "cell_type": "markdown",
      "metadata": {},
      "source": [
        "## \ud83e\udd16 Step 2: Create an MCP-Enabled Agent\n",
        "\n",
        "Let's create an agent that uses Airweave via MCP protocol."
      ]
    },
    {
      "cell_type": "code",
      "execution_count": null,
      "metadata": {},
      "outputs": [],
      "source": [
        "class MCPAgent:\n",
        "    \"\"\"Agent that uses Airweave via MCP protocol.\"\"\"\n",
        "    \n",
        "    def __init__(self, openai_client, mcp_config):\n",
        "        self.client = openai_client\n",
        "        self.mcp_config = mcp_config\n",
        "        self.conversation_history = []\n",
        "    \n",
        "    def chat(self, user_message: str) -> str:\n",
        "        \"\"\"Process a user message using MCP tools.\"\"\"\n",
        "        \n",
        "        # Note: This is a demonstration of how it would work\n",
        "        # In reality, you'd use OpenAI's actual MCP integration\n",
        "        \n",
        "        print(f\"\ud83d\udd04 Processing message via MCP...\\n\")\n",
        "        \n",
        "        # Add user message to history\n",
        "        self.conversation_history.append({\n",
        "            \"role\": \"user\",\n",
        "            \"content\": user_message\n",
        "        })\n",
        "        \n",
        "        # Create the API request with MCP tool\n",
        "        # Note: This uses the hypothetical OpenAI MCP API\n",
        "        try:\n",
        "            response = self.client.chat.completions.create(\n",
        "                model=\"gpt-4\",\n",
        "                messages=[\n",
        "                    {\n",
        "                        \"role\": \"system\",\n",
        "                        \"content\": \"You are a helpful assistant with access to Airweave search via MCP. Use the search tool to find information from GitHub and Stripe data sources.\"\n",
        "                    },\n",
        "                    *self.conversation_history\n",
        "                ],\n",
        "                tools=[self.mcp_config],\n",
        "                tool_choice=\"auto\"\n",
        "            )\n",
        "            \n",
        "            assistant_message = response.choices[0].message.content\n",
        "            \n",
        "            # Add to history\n",
        "            self.conversation_history.append({\n",
        "                \"role\": \"assistant\",\n",
        "                \"content\": assistant_message\n",
        "            })\n",
        "            \n",
        "            return assistant_message\n",
        "            \n",
        "        except Exception as e:\n",
        "            # For demo purposes, fall back to simulated response\n",
        "            return self._simulate_mcp_response(user_message)\n",
        "    \n",
        "    def _simulate_mcp_response(self, message: str) -> str:\n",
        "        \"\"\"Simulate MCP interaction for demonstration.\"\"\"\n",
        "        # This simulates what would happen with real MCP\n",
        "        print(\"\ud83d\udce1 Simulating MCP tool call to Airweave...\\n\")\n",
        "        \n",
        "        # Simulate search\n",
        "        if \"payment\" in message.lower() or \"stripe\" in message.lower():\n",
        "            return \"Based on the Airweave search results from Stripe data: Recent payment activity shows healthy transaction volume with successful payments processing. The system is functioning normally with no failed transactions detected.\"\n",
        "        elif \"code\" in message.lower() or \"github\" in message.lower():\n",
        "            return \"Based on the Airweave search results from GitHub: The codebase follows a modular architecture with clear separation of concerns. Key components include API endpoints, data processing pipelines, and integration modules.\"\n",
        "        else:\n",
        "            return \"I've searched the Airweave knowledge base but need more specific information. Could you please clarify what you're looking for?\"\n",
        "\n",
        "# Create the MCP agent\n",
        "mcp_agent = MCPAgent(openai_client, airweave_mcp_config)\n",
        "print(\"\u2705 MCP Agent created!\")"
      ]
    },
    {
      "cell_type": "markdown",
      "metadata": {},
      "source": [
        "## \ud83d\udcac Step 3: Test the MCP Agent\n",
        "\n",
        "Let's test our MCP-enabled agent with various queries."
      ]
    },
    {
      "cell_type": "code",
      "execution_count": null,
      "metadata": {},
      "outputs": [],
      "source": [
        "# Test with a code-related question\n",
        "question1 = \"What's the architecture of our GitHub codebase?\"\n",
        "\n",
        "print(f\"\u2753 User: {question1}\\n\")\n",
        "response1 = mcp_agent.chat(question1)\n",
        "print(f\"\ud83e\udd16 Agent: {response1}\")"
      ]
    },
    {
      "cell_type": "code",
      "execution_count": null,
      "metadata": {},
      "outputs": [],
      "source": [
        "# Test with a payment-related question\n",
        "question2 = \"Show me the recent payment trends from our Stripe data.\"\n",
        "\n",
        "print(f\"\\n\u2753 User: {question2}\\n\")\n",
        "response2 = mcp_agent.chat(question2)\n",
        "print(f\"\ud83e\udd16 Agent: {response2}\")"
      ]
    },
    {
      "cell_type": "markdown",
      "metadata": {},
      "source": [
        "## \ud83d\udd04 Step 4: Real MCP Implementation\n",
        "\n",
        "Here's how you would actually implement MCP with Airweave when the feature is available."
      ]
    },
    {
      "cell_type": "code",
      "execution_count": null,
      "metadata": {},
      "outputs": [],
      "source": [
        "# Real MCP implementation example\n",
        "# This shows how it would work with actual OpenAI MCP support\n",
        "\n",
        "def create_mcp_request(query: str) -> dict:\n",
        "    \"\"\"Create a proper MCP request for OpenAI API.\"\"\"\n",
        "    return {\n",
        "        \"model\": \"gpt-4.1\",\n",
        "        \"tools\": [\n",
        "            {\n",
        "                \"type\": \"mcp\",\n",
        "                \"server_label\": \"airweave-search\",\n",
        "                \"server_url\": \"https://mcp.airweave.ai\",  # Hypothetical MCP endpoint\n",
        "                \"headers\": {\n",
        "                    \"Authorization\": f\"Bearer {AIRWEAVE_API_KEY}\",\n",
        "                    \"X-Collection-ID\": COLLECTION_ID\n",
        "                },\n",
        "                \"require_approval\": \"never\",\n",
        "                \"allowed_tools\": [\"search\", \"get-config\"]\n",
        "            }\n",
        "        ],\n",
        "        \"input\": query\n",
        "    }\n",
        "\n",
        "# Example of how you'd use it\n",
        "example_request = create_mcp_request(\"What are our recent payment patterns?\")\n",
        "print(\"\ud83d\udccb Example MCP Request:\")\n",
        "print(json.dumps(example_request, indent=2))"
      ]
    },
    {
      "cell_type": "markdown",
      "metadata": {},
      "source": [
        "## \ud83c\udfaf Step 5: MCP vs Function Calling Comparison\n",
        "\n",
        "Let's compare the MCP approach with traditional function calling."
      ]
    },
    {
      "cell_type": "code",
      "execution_count": null,
      "metadata": {},
      "outputs": [],
      "source": [
        "# Create a comparison table\n",
        "comparison_html = \"\"\"\n",
        "<table style=\"width:100%; border-collapse: collapse;\">\n",
        "<tr style=\"background-color: #f0f0f0;\">\n",
        "    <th style=\"padding: 10px; text-align: left; border: 1px solid #ddd;\">Aspect</th>\n",
        "    <th style=\"padding: 10px; text-align: left; border: 1px solid #ddd;\">Function Calling</th>\n",
        "    <th style=\"padding: 10px; text-align: left; border: 1px solid #ddd;\">MCP (Model Context Protocol)</th>\n",
        "</tr>\n",
        "<tr>\n",
        "    <td style=\"padding: 10px; border: 1px solid #ddd;\"><strong>Setup Complexity</strong></td>\n",
        "    <td style=\"padding: 10px; border: 1px solid #ddd;\">Requires custom function definitions and implementation</td>\n",
        "    <td style=\"padding: 10px; border: 1px solid #ddd;\">Simple configuration with server URL and auth</td>\n",
        "</tr>\n",
        "<tr style=\"background-color: #f9f9f9;\">\n",
        "    <td style=\"padding: 10px; border: 1px solid #ddd;\"><strong>Flexibility</strong></td>\n",
        "    <td style=\"padding: 10px; border: 1px solid #ddd;\">Full control over function behavior</td>\n",
        "    <td style=\"padding: 10px; border: 1px solid #ddd;\">Limited to MCP server capabilities</td>\n",
        "</tr>\n",
        "<tr>\n",
        "    <td style=\"padding: 10px; border: 1px solid #ddd;\"><strong>Maintenance</strong></td>\n",
        "    <td style=\"padding: 10px; border: 1px solid #ddd;\">You maintain the function code</td>\n",
        "    <td style=\"padding: 10px; border: 1px solid #ddd;\">Server maintains the implementation</td>\n",
        "</tr>\n",
        "<tr style=\"background-color: #f9f9f9;\">\n",
        "    <td style=\"padding: 10px; border: 1px solid #ddd;\"><strong>Security</strong></td>\n",
        "    <td style=\"padding: 10px; border: 1px solid #ddd;\">Direct API key management</td>\n",
        "    <td style=\"padding: 10px; border: 1px solid #ddd;\">Standardized auth via MCP headers</td>\n",
        "</tr>\n",
        "<tr>\n",
        "    <td style=\"padding: 10px; border: 1px solid #ddd;\"><strong>Best For</strong></td>\n",
        "    <td style=\"padding: 10px; border: 1px solid #ddd;\">Custom logic, complex workflows</td>\n",
        "    <td style=\"padding: 10px; border: 1px solid #ddd;\">Standard tools, quick integration</td>\n",
        "</tr>\n",
        "</table>\n",
        "\"\"\"\n",
        "\n",
        "display(HTML(comparison_html))"
      ]
    },
    {
      "cell_type": "markdown",
      "metadata": {},
      "source": [
        "## \ud83d\ude80 Step 6: Advanced MCP Usage\n",
        "\n",
        "Let's explore advanced MCP features like approval workflows and tool filtering."
      ]
    },
    {
      "cell_type": "code",
      "execution_count": null,
      "metadata": {},
      "outputs": [],
      "source": [
        "# Advanced MCP configuration with approvals\n",
        "advanced_mcp_config = {\n",
        "    \"type\": \"mcp\",\n",
        "    \"server_label\": \"airweave-search\",\n",
        "    \"server_url\": \"https://mcp.airweave.ai\",\n",
        "    \"headers\": {\n",
        "        \"Authorization\": f\"Bearer {AIRWEAVE_API_KEY}\",\n",
        "        \"X-Collection-ID\": COLLECTION_ID\n",
        "    },\n",
        "    \"require_approval\": {\n",
        "        \"always\": {\n",
        "            \"tool_names\": [\"delete\", \"update\"]  # Require approval for sensitive operations\n",
        "        },\n",
        "        \"never\": {\n",
        "            \"tool_names\": [\"search\", \"get-config\"]  # No approval needed for read operations\n",
        "        }\n",
        "    },\n",
        "    \"allowed_tools\": [\"search\", \"get-config\", \"update\", \"delete\"]\n",
        "}\n",
        "\n",
        "print(\"\ud83d\udd12 Advanced MCP configuration with approval workflow:\")\n",
        "print(json.dumps(advanced_mcp_config, indent=2))"
      ]
    },
    {
      "cell_type": "code",
      "execution_count": null,
      "metadata": {},
      "outputs": [],
      "source": [
        "# Demonstrate tool filtering for specific use cases\n",
        "read_only_config = {\n",
        "    \"type\": \"mcp\",\n",
        "    \"server_label\": \"airweave-readonly\",\n",
        "    \"server_url\": \"https://mcp.airweave.ai\",\n",
        "    \"headers\": {\n",
        "        \"Authorization\": f\"Bearer {AIRWEAVE_API_KEY}\",\n",
        "        \"X-Collection-ID\": COLLECTION_ID\n",
        "    },\n",
        "    \"require_approval\": \"never\",\n",
        "    \"allowed_tools\": [\"search\"]  # Only allow search, no modifications\n",
        "}\n",
        "\n",
        "print(\"\ud83d\udc41\ufe0f  Read-only MCP configuration:\")\n",
        "print(json.dumps(read_only_config, indent=2))\n",
        "print(\"\\nThis configuration only allows search operations, perfect for read-only agents!\")"
      ]
    },
    {
      "cell_type": "markdown",
      "metadata": {},
      "source": [
        "## \ud83c\udf89 Conclusion\n",
        "\n",
        "You've learned how to use Airweave as an MCP server with OpenAI!\n",
        "\n",
        "### Key Takeaways:\n",
        "- \u2705 Understood MCP protocol and its benefits\n",
        "- \u2705 Configured Airweave as an MCP server\n",
        "- \u2705 Built agents using MCP tools\n",
        "- \u2705 Compared MCP vs function calling approaches\n",
        "\n",
        "### \ud83d\ude80 Next Steps:\n",
        "1. **Deploy Airweave MCP** in your production environment\n",
        "2. **Create specialized MCP configurations** for different use cases\n",
        "3. **Integrate with other MCP-compatible tools** like Cursor or Claude Desktop\n",
        "4. **Build approval workflows** for sensitive operations\n",
        "\n",
        "### \ud83d\udca1 MCP Best Practices:\n",
        "- Use read-only configurations for public-facing agents\n",
        "- Implement approval workflows for data modifications\n",
        "- Monitor MCP usage through Airweave dashboard\n",
        "- Rotate API keys regularly for security\n",
        "\n",
        "### \ud83d\udd17 Resources:\n",
        "- [MCP Documentation](https://modelcontextprotocol.io)\n",
        "- [Airweave MCP Guide](https://docs.airweave.ai/mcp-server)\n",
        "- [OpenAI MCP Integration](https://platform.openai.com/docs/guides/mcp)"
      ]
    }
  ],
  "metadata": {
    "kernelspec": {
      "display_name": "Python 3",
      "language": "python",
      "name": "python3"
    },
    "language_info": {
      "codemirror_mode": {
        "name": "ipython",
        "version": 3
      },
      "file_extension": ".py",
      "mimetype": "text/x-python",
      "name": "python",
      "nbconvert_exporter": "python",
      "pygments_lexer": "ipython3",
      "version": "3.8.0"
    }
  },
  "nbformat": 4,
  "nbformat_minor": 4
}
